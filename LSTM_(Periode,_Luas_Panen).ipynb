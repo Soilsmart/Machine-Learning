{
  "cells": [
    {
      "cell_type": "code",
      "execution_count": 1,
      "metadata": {
        "id": "98313fdd"
      },
      "outputs": [],
      "source": [
        "import pandas as pd\n",
        "import numpy as np\n",
        "from tensorflow.keras.models import Sequential\n",
        "from tensorflow.keras.layers import LSTM, Dense\n",
        "from tensorflow.keras.metrics import MeanSquaredError, RootMeanSquaredError"
      ],
      "id": "98313fdd"
    },
    {
      "cell_type": "code",
      "execution_count": 2,
      "metadata": {
        "colab": {
          "base_uri": "https://localhost:8080/",
          "height": 206
        },
        "id": "e96748fd",
        "outputId": "faf394b5-18fb-4c1b-a219-409ef37a6cdc"
      },
      "outputs": [
        {
          "output_type": "execute_result",
          "data": {
            "text/plain": [
              "      Periode Provinsi  Luas Panen (Ha)  Produksi Padi (Ton-GKG)  \\\n",
              "0  2018-01-01     ACEH         14541.53                 76118.47   \n",
              "1  2018-02-01     ACEH         27075.77                142876.76   \n",
              "2  2018-03-01     ACEH         66403.96                375841.91   \n",
              "3  2018-04-01     ACEH         58507.03                336742.80   \n",
              "4  2018-05-01     ACEH         16867.65                 96372.36   \n",
              "\n",
              "   Produktivitas (Ton/Ha)  \n",
              "0                    5.23  \n",
              "1                    5.28  \n",
              "2                    5.66  \n",
              "3                    5.76  \n",
              "4                    5.71  "
            ],
            "text/html": [
              "\n",
              "  <div id=\"df-f8314bba-a1cc-4239-bd2d-6b9d30a078a5\">\n",
              "    <div class=\"colab-df-container\">\n",
              "      <div>\n",
              "<style scoped>\n",
              "    .dataframe tbody tr th:only-of-type {\n",
              "        vertical-align: middle;\n",
              "    }\n",
              "\n",
              "    .dataframe tbody tr th {\n",
              "        vertical-align: top;\n",
              "    }\n",
              "\n",
              "    .dataframe thead th {\n",
              "        text-align: right;\n",
              "    }\n",
              "</style>\n",
              "<table border=\"1\" class=\"dataframe\">\n",
              "  <thead>\n",
              "    <tr style=\"text-align: right;\">\n",
              "      <th></th>\n",
              "      <th>Periode</th>\n",
              "      <th>Provinsi</th>\n",
              "      <th>Luas Panen (Ha)</th>\n",
              "      <th>Produksi Padi (Ton-GKG)</th>\n",
              "      <th>Produktivitas (Ton/Ha)</th>\n",
              "    </tr>\n",
              "  </thead>\n",
              "  <tbody>\n",
              "    <tr>\n",
              "      <th>0</th>\n",
              "      <td>2018-01-01</td>\n",
              "      <td>ACEH</td>\n",
              "      <td>14541.53</td>\n",
              "      <td>76118.47</td>\n",
              "      <td>5.23</td>\n",
              "    </tr>\n",
              "    <tr>\n",
              "      <th>1</th>\n",
              "      <td>2018-02-01</td>\n",
              "      <td>ACEH</td>\n",
              "      <td>27075.77</td>\n",
              "      <td>142876.76</td>\n",
              "      <td>5.28</td>\n",
              "    </tr>\n",
              "    <tr>\n",
              "      <th>2</th>\n",
              "      <td>2018-03-01</td>\n",
              "      <td>ACEH</td>\n",
              "      <td>66403.96</td>\n",
              "      <td>375841.91</td>\n",
              "      <td>5.66</td>\n",
              "    </tr>\n",
              "    <tr>\n",
              "      <th>3</th>\n",
              "      <td>2018-04-01</td>\n",
              "      <td>ACEH</td>\n",
              "      <td>58507.03</td>\n",
              "      <td>336742.80</td>\n",
              "      <td>5.76</td>\n",
              "    </tr>\n",
              "    <tr>\n",
              "      <th>4</th>\n",
              "      <td>2018-05-01</td>\n",
              "      <td>ACEH</td>\n",
              "      <td>16867.65</td>\n",
              "      <td>96372.36</td>\n",
              "      <td>5.71</td>\n",
              "    </tr>\n",
              "  </tbody>\n",
              "</table>\n",
              "</div>\n",
              "      <button class=\"colab-df-convert\" onclick=\"convertToInteractive('df-f8314bba-a1cc-4239-bd2d-6b9d30a078a5')\"\n",
              "              title=\"Convert this dataframe to an interactive table.\"\n",
              "              style=\"display:none;\">\n",
              "        \n",
              "  <svg xmlns=\"http://www.w3.org/2000/svg\" height=\"24px\"viewBox=\"0 0 24 24\"\n",
              "       width=\"24px\">\n",
              "    <path d=\"M0 0h24v24H0V0z\" fill=\"none\"/>\n",
              "    <path d=\"M18.56 5.44l.94 2.06.94-2.06 2.06-.94-2.06-.94-.94-2.06-.94 2.06-2.06.94zm-11 1L8.5 8.5l.94-2.06 2.06-.94-2.06-.94L8.5 2.5l-.94 2.06-2.06.94zm10 10l.94 2.06.94-2.06 2.06-.94-2.06-.94-.94-2.06-.94 2.06-2.06.94z\"/><path d=\"M17.41 7.96l-1.37-1.37c-.4-.4-.92-.59-1.43-.59-.52 0-1.04.2-1.43.59L10.3 9.45l-7.72 7.72c-.78.78-.78 2.05 0 2.83L4 21.41c.39.39.9.59 1.41.59.51 0 1.02-.2 1.41-.59l7.78-7.78 2.81-2.81c.8-.78.8-2.07 0-2.86zM5.41 20L4 18.59l7.72-7.72 1.47 1.35L5.41 20z\"/>\n",
              "  </svg>\n",
              "      </button>\n",
              "      \n",
              "  <style>\n",
              "    .colab-df-container {\n",
              "      display:flex;\n",
              "      flex-wrap:wrap;\n",
              "      gap: 12px;\n",
              "    }\n",
              "\n",
              "    .colab-df-convert {\n",
              "      background-color: #E8F0FE;\n",
              "      border: none;\n",
              "      border-radius: 50%;\n",
              "      cursor: pointer;\n",
              "      display: none;\n",
              "      fill: #1967D2;\n",
              "      height: 32px;\n",
              "      padding: 0 0 0 0;\n",
              "      width: 32px;\n",
              "    }\n",
              "\n",
              "    .colab-df-convert:hover {\n",
              "      background-color: #E2EBFA;\n",
              "      box-shadow: 0px 1px 2px rgba(60, 64, 67, 0.3), 0px 1px 3px 1px rgba(60, 64, 67, 0.15);\n",
              "      fill: #174EA6;\n",
              "    }\n",
              "\n",
              "    [theme=dark] .colab-df-convert {\n",
              "      background-color: #3B4455;\n",
              "      fill: #D2E3FC;\n",
              "    }\n",
              "\n",
              "    [theme=dark] .colab-df-convert:hover {\n",
              "      background-color: #434B5C;\n",
              "      box-shadow: 0px 1px 3px 1px rgba(0, 0, 0, 0.15);\n",
              "      filter: drop-shadow(0px 1px 2px rgba(0, 0, 0, 0.3));\n",
              "      fill: #FFFFFF;\n",
              "    }\n",
              "  </style>\n",
              "\n",
              "      <script>\n",
              "        const buttonEl =\n",
              "          document.querySelector('#df-f8314bba-a1cc-4239-bd2d-6b9d30a078a5 button.colab-df-convert');\n",
              "        buttonEl.style.display =\n",
              "          google.colab.kernel.accessAllowed ? 'block' : 'none';\n",
              "\n",
              "        async function convertToInteractive(key) {\n",
              "          const element = document.querySelector('#df-f8314bba-a1cc-4239-bd2d-6b9d30a078a5');\n",
              "          const dataTable =\n",
              "            await google.colab.kernel.invokeFunction('convertToInteractive',\n",
              "                                                     [key], {});\n",
              "          if (!dataTable) return;\n",
              "\n",
              "          const docLinkHtml = 'Like what you see? Visit the ' +\n",
              "            '<a target=\"_blank\" href=https://colab.research.google.com/notebooks/data_table.ipynb>data table notebook</a>'\n",
              "            + ' to learn more about interactive tables.';\n",
              "          element.innerHTML = '';\n",
              "          dataTable['output_type'] = 'display_data';\n",
              "          await google.colab.output.renderOutput(dataTable, element);\n",
              "          const docLink = document.createElement('div');\n",
              "          docLink.innerHTML = docLinkHtml;\n",
              "          element.appendChild(docLink);\n",
              "        }\n",
              "      </script>\n",
              "    </div>\n",
              "  </div>\n",
              "  "
            ]
          },
          "metadata": {},
          "execution_count": 2
        }
      ],
      "source": [
        "#Dataset\n",
        "data = pd.read_csv(\"/content/Dataset-hasil-panen-padi-2018-2021.csv\")\n",
        "data.head()"
      ],
      "id": "e96748fd"
    },
    {
      "cell_type": "code",
      "execution_count": 3,
      "metadata": {
        "id": "5f29b6fd"
      },
      "outputs": [],
      "source": [
        "#Memilih kolom yang diperlukan\n",
        "data = data[['Periode', 'Luas Panen (Ha)', 'Produksi Padi (Ton-GKG)']]"
      ],
      "id": "5f29b6fd"
    },
    {
      "cell_type": "code",
      "execution_count": 4,
      "metadata": {
        "colab": {
          "base_uri": "https://localhost:8080/"
        },
        "id": "c8d9ef2e",
        "outputId": "971e4874-8647-432b-fd17-9edb217d714e",
        "scrolled": true
      },
      "outputs": [
        {
          "output_type": "execute_result",
          "data": {
            "text/plain": [
              "pandas.core.series.Series"
            ]
          },
          "metadata": {},
          "execution_count": 4
        }
      ],
      "source": [
        "#Ubah format Periode ke datetime\n",
        "data['Periode'] = pd.to_datetime(data['Periode'])\n",
        "type(data['Periode'])"
      ],
      "id": "c8d9ef2e"
    },
    {
      "cell_type": "code",
      "execution_count": 5,
      "metadata": {
        "colab": {
          "base_uri": "https://localhost:8080/"
        },
        "id": "93abd90d",
        "outputId": "59b35d62-1b4f-48b5-e426-56561a116ba0"
      },
      "outputs": [
        {
          "output_type": "execute_result",
          "data": {
            "text/plain": [
              "pandas.core.frame.DataFrame"
            ]
          },
          "metadata": {},
          "execution_count": 5
        }
      ],
      "source": [
        "#Sortir data berdasarkan Periode\n",
        "data = data.sort_values('Periode')\n",
        "type(data)"
      ],
      "id": "93abd90d"
    },
    {
      "cell_type": "code",
      "execution_count": 6,
      "metadata": {
        "colab": {
          "base_uri": "https://localhost:8080/"
        },
        "id": "8ede5386",
        "outputId": "7f81453f-c4e5-42b2-de68-32a8e68b7510"
      },
      "outputs": [
        {
          "output_type": "execute_result",
          "data": {
            "text/plain": [
              "pandas.core.series.Series"
            ]
          },
          "metadata": {},
          "execution_count": 6
        }
      ],
      "source": [
        "data['Luas Panen (Ha)'] = (data['Luas Panen (Ha)'] - data['Luas Panen (Ha)'].min()) / (data['Luas Panen (Ha)'].max() - data['Luas Panen (Ha)'].min())\n",
        "data['Produksi Padi (Ton-GKG)'] = (data['Produksi Padi (Ton-GKG)'] - data['Produksi Padi (Ton-GKG)'].min()) / (data['Produksi Padi (Ton-GKG)'].max() - data['Produksi Padi (Ton-GKG)'].min())\n",
        "\n",
        "type(data['Luas Panen (Ha)'])\n",
        "type(data['Produksi Padi (Ton-GKG)'])\n"
      ],
      "id": "8ede5386"
    },
    {
      "cell_type": "code",
      "execution_count": 7,
      "metadata": {
        "id": "51fecf2c"
      },
      "outputs": [],
      "source": [
        "#Pemisahan data latih dan data uji\n",
        "train_data = data[data['Periode'].dt.year < 2021]\n",
        "test_data = data[data['Periode'].dt.year == 2021]"
      ],
      "id": "51fecf2c"
    },
    {
      "cell_type": "code",
      "execution_count": 8,
      "metadata": {
        "id": "609b8269"
      },
      "outputs": [],
      "source": [
        "#Persiapan data untuk model LSTM\n",
        "def prepare_data(data, n_steps):\n",
        "    X, y = [], []\n",
        "    for i in range(len(data) - n_steps):\n",
        "        X.append(data[i:i+n_steps, 1])  #Ambil kolom Luas Panen (Ha)\n",
        "        y.append(data[i+n_steps, 2])  #Ambil kolom Produksi Padi (Ton-GKG)\n",
        "    return np.array(X), np.array(y)\n",
        "\n",
        "#Data latih dan uji disesuaikan\n",
        "n_steps = 12  #Jumlah periode yang digunakan sebagai input (bulan)\n",
        "X_train, y_train = prepare_data(train_data.values, n_steps)\n",
        "X_test, y_test = prepare_data(test_data.values, n_steps)"
      ],
      "id": "609b8269"
    },
    {
      "cell_type": "code",
      "execution_count": 9,
      "metadata": {
        "id": "00e3480d"
      },
      "outputs": [],
      "source": [
        "from tensorflow.keras.layers import Dropout\n",
        "#Membangun model LSTM\n",
        "model = Sequential()\n",
        "model.add(LSTM(256, activation='relu', input_shape=(n_steps, 1), return_sequences=True))\n",
        "model.add(Dense(256, activation='relu'))\n",
        "model.add(Dropout(0.2))\n",
        "model.add(LSTM(182, activation='relu', return_sequences=True))\n",
        "model.add(Dense(182, activation='relu'))\n",
        "model.add(Dropout(0.2))\n",
        "model.add(LSTM(64, activation='relu'))\n",
        "model.add(Dense(1))\n",
        "model.compile(optimizer='adam', loss='mse')"
      ],
      "id": "00e3480d"
    },
    {
      "cell_type": "code",
      "execution_count": 10,
      "metadata": {
        "id": "e-i1mJ6lat27"
      },
      "outputs": [],
      "source": [
        "#Ubah tipe data ke float32\n",
        "X_train = X_train.astype(np.float32)\n",
        "y_train = y_train.astype(np.float32)"
      ],
      "id": "e-i1mJ6lat27"
    },
    {
      "cell_type": "code",
      "execution_count": 11,
      "metadata": {
        "colab": {
          "base_uri": "https://localhost:8080/"
        },
        "id": "e7a0d18a",
        "outputId": "843109a8-4885-479a-aa88-e91d112ec217"
      },
      "outputs": [
        {
          "output_type": "stream",
          "name": "stdout",
          "text": [
            "Epoch 1/100\n",
            "38/38 - 6s - loss: 0.0133 - 6s/epoch - 150ms/step\n",
            "Epoch 2/100\n",
            "38/38 - 2s - loss: 0.0130 - 2s/epoch - 64ms/step\n",
            "Epoch 3/100\n",
            "38/38 - 3s - loss: 0.0129 - 3s/epoch - 73ms/step\n",
            "Epoch 4/100\n",
            "38/38 - 3s - loss: 0.0129 - 3s/epoch - 71ms/step\n",
            "Epoch 5/100\n",
            "38/38 - 2s - loss: 0.0129 - 2s/epoch - 65ms/step\n",
            "Epoch 6/100\n",
            "38/38 - 2s - loss: 0.0129 - 2s/epoch - 61ms/step\n",
            "Epoch 7/100\n",
            "38/38 - 2s - loss: 0.0130 - 2s/epoch - 61ms/step\n",
            "Epoch 8/100\n",
            "38/38 - 3s - loss: 0.0129 - 3s/epoch - 79ms/step\n",
            "Epoch 9/100\n",
            "38/38 - 2s - loss: 0.0129 - 2s/epoch - 63ms/step\n",
            "Epoch 10/100\n",
            "38/38 - 2s - loss: 0.0129 - 2s/epoch - 61ms/step\n",
            "Epoch 11/100\n",
            "38/38 - 2s - loss: 0.0129 - 2s/epoch - 61ms/step\n",
            "Epoch 12/100\n",
            "38/38 - 2s - loss: 0.0129 - 2s/epoch - 62ms/step\n",
            "Epoch 13/100\n",
            "38/38 - 3s - loss: 0.0129 - 3s/epoch - 81ms/step\n",
            "Epoch 14/100\n",
            "38/38 - 2s - loss: 0.0129 - 2s/epoch - 62ms/step\n",
            "Epoch 15/100\n",
            "38/38 - 2s - loss: 0.0129 - 2s/epoch - 62ms/step\n",
            "Epoch 16/100\n",
            "38/38 - 2s - loss: 0.0128 - 2s/epoch - 62ms/step\n",
            "Epoch 17/100\n",
            "38/38 - 3s - loss: 0.0128 - 3s/epoch - 69ms/step\n",
            "Epoch 18/100\n",
            "38/38 - 3s - loss: 0.0128 - 3s/epoch - 78ms/step\n",
            "Epoch 19/100\n",
            "38/38 - 3s - loss: 0.0129 - 3s/epoch - 71ms/step\n",
            "Epoch 20/100\n",
            "38/38 - 2s - loss: 0.0128 - 2s/epoch - 64ms/step\n",
            "Epoch 21/100\n",
            "38/38 - 2s - loss: 0.0129 - 2s/epoch - 65ms/step\n",
            "Epoch 22/100\n",
            "38/38 - 3s - loss: 0.0128 - 3s/epoch - 80ms/step\n",
            "Epoch 23/100\n",
            "38/38 - 2s - loss: 0.0128 - 2s/epoch - 64ms/step\n",
            "Epoch 24/100\n",
            "38/38 - 2s - loss: 0.0128 - 2s/epoch - 63ms/step\n",
            "Epoch 25/100\n",
            "38/38 - 2s - loss: 0.0129 - 2s/epoch - 63ms/step\n",
            "Epoch 26/100\n",
            "38/38 - 3s - loss: 0.0129 - 3s/epoch - 67ms/step\n",
            "Epoch 27/100\n",
            "38/38 - 3s - loss: 0.0129 - 3s/epoch - 74ms/step\n",
            "Epoch 28/100\n",
            "38/38 - 2s - loss: 0.0128 - 2s/epoch - 65ms/step\n",
            "Epoch 29/100\n",
            "38/38 - 2s - loss: 0.0128 - 2s/epoch - 62ms/step\n",
            "Epoch 30/100\n",
            "38/38 - 2s - loss: 0.0128 - 2s/epoch - 62ms/step\n",
            "Epoch 31/100\n",
            "38/38 - 3s - loss: 0.0128 - 3s/epoch - 81ms/step\n",
            "Epoch 32/100\n",
            "38/38 - 2s - loss: 0.0128 - 2s/epoch - 63ms/step\n",
            "Epoch 33/100\n",
            "38/38 - 2s - loss: 0.0128 - 2s/epoch - 63ms/step\n",
            "Epoch 34/100\n",
            "38/38 - 2s - loss: 0.0127 - 2s/epoch - 63ms/step\n",
            "Epoch 35/100\n",
            "38/38 - 2s - loss: 0.0129 - 2s/epoch - 61ms/step\n",
            "Epoch 36/100\n",
            "38/38 - 3s - loss: 0.0128 - 3s/epoch - 79ms/step\n",
            "Epoch 37/100\n",
            "38/38 - 2s - loss: 0.0128 - 2s/epoch - 63ms/step\n",
            "Epoch 38/100\n",
            "38/38 - 2s - loss: 0.0128 - 2s/epoch - 62ms/step\n",
            "Epoch 39/100\n",
            "38/38 - 2s - loss: 0.0127 - 2s/epoch - 62ms/step\n",
            "Epoch 40/100\n",
            "38/38 - 3s - loss: 0.0127 - 3s/epoch - 68ms/step\n",
            "Epoch 41/100\n",
            "38/38 - 3s - loss: 0.0128 - 3s/epoch - 75ms/step\n",
            "Epoch 42/100\n",
            "38/38 - 2s - loss: 0.0128 - 2s/epoch - 63ms/step\n",
            "Epoch 43/100\n",
            "38/38 - 2s - loss: 0.0127 - 2s/epoch - 63ms/step\n",
            "Epoch 44/100\n",
            "38/38 - 2s - loss: 0.0128 - 2s/epoch - 62ms/step\n",
            "Epoch 45/100\n",
            "38/38 - 3s - loss: 0.0128 - 3s/epoch - 80ms/step\n",
            "Epoch 46/100\n",
            "38/38 - 2s - loss: 0.0128 - 2s/epoch - 63ms/step\n",
            "Epoch 47/100\n",
            "38/38 - 2s - loss: 0.0128 - 2s/epoch - 64ms/step\n",
            "Epoch 48/100\n",
            "38/38 - 3s - loss: 0.0127 - 3s/epoch - 80ms/step\n",
            "Epoch 49/100\n",
            "38/38 - 2s - loss: 0.0127 - 2s/epoch - 65ms/step\n",
            "Epoch 50/100\n",
            "38/38 - 3s - loss: 0.0127 - 3s/epoch - 78ms/step\n",
            "Epoch 51/100\n",
            "38/38 - 2s - loss: 0.0128 - 2s/epoch - 65ms/step\n",
            "Epoch 52/100\n",
            "38/38 - 2s - loss: 0.0128 - 2s/epoch - 64ms/step\n",
            "Epoch 53/100\n",
            "38/38 - 2s - loss: 0.0128 - 2s/epoch - 62ms/step\n",
            "Epoch 54/100\n",
            "38/38 - 3s - loss: 0.0128 - 3s/epoch - 81ms/step\n",
            "Epoch 55/100\n",
            "38/38 - 2s - loss: 0.0128 - 2s/epoch - 63ms/step\n",
            "Epoch 56/100\n",
            "38/38 - 2s - loss: 0.0128 - 2s/epoch - 64ms/step\n",
            "Epoch 57/100\n",
            "38/38 - 2s - loss: 0.0128 - 2s/epoch - 62ms/step\n",
            "Epoch 58/100\n",
            "38/38 - 2s - loss: 0.0128 - 2s/epoch - 63ms/step\n",
            "Epoch 59/100\n",
            "38/38 - 3s - loss: 0.0128 - 3s/epoch - 80ms/step\n",
            "Epoch 60/100\n",
            "38/38 - 2s - loss: 0.0128 - 2s/epoch - 61ms/step\n",
            "Epoch 61/100\n",
            "38/38 - 2s - loss: 0.0127 - 2s/epoch - 62ms/step\n",
            "Epoch 62/100\n",
            "38/38 - 2s - loss: 0.0127 - 2s/epoch - 61ms/step\n",
            "Epoch 63/100\n",
            "38/38 - 3s - loss: 0.0128 - 3s/epoch - 66ms/step\n",
            "Epoch 64/100\n",
            "38/38 - 3s - loss: 0.0128 - 3s/epoch - 77ms/step\n",
            "Epoch 65/100\n",
            "38/38 - 2s - loss: 0.0127 - 2s/epoch - 61ms/step\n",
            "Epoch 66/100\n",
            "38/38 - 2s - loss: 0.0127 - 2s/epoch - 61ms/step\n",
            "Epoch 67/100\n",
            "38/38 - 2s - loss: 0.0129 - 2s/epoch - 65ms/step\n",
            "Epoch 68/100\n",
            "38/38 - 3s - loss: 0.0129 - 3s/epoch - 77ms/step\n",
            "Epoch 69/100\n",
            "38/38 - 3s - loss: 0.0127 - 3s/epoch - 66ms/step\n",
            "Epoch 70/100\n",
            "38/38 - 2s - loss: 0.0127 - 2s/epoch - 64ms/step\n",
            "Epoch 71/100\n",
            "38/38 - 2s - loss: 0.0128 - 2s/epoch - 65ms/step\n",
            "Epoch 72/100\n",
            "38/38 - 2s - loss: 0.0128 - 2s/epoch - 63ms/step\n",
            "Epoch 73/100\n",
            "38/38 - 3s - loss: 0.0127 - 3s/epoch - 81ms/step\n",
            "Epoch 74/100\n",
            "38/38 - 2s - loss: 0.0127 - 2s/epoch - 62ms/step\n",
            "Epoch 75/100\n",
            "38/38 - 2s - loss: 0.0128 - 2s/epoch - 61ms/step\n",
            "Epoch 76/100\n",
            "38/38 - 2s - loss: 0.0127 - 2s/epoch - 65ms/step\n",
            "Epoch 77/100\n",
            "38/38 - 3s - loss: 0.0127 - 3s/epoch - 67ms/step\n",
            "Epoch 78/100\n",
            "38/38 - 3s - loss: 0.0128 - 3s/epoch - 76ms/step\n",
            "Epoch 79/100\n",
            "38/38 - 2s - loss: 0.0127 - 2s/epoch - 64ms/step\n",
            "Epoch 80/100\n",
            "38/38 - 2s - loss: 0.0127 - 2s/epoch - 64ms/step\n",
            "Epoch 81/100\n",
            "38/38 - 3s - loss: 0.0127 - 3s/epoch - 66ms/step\n",
            "Epoch 82/100\n",
            "38/38 - 3s - loss: 0.0127 - 3s/epoch - 81ms/step\n",
            "Epoch 83/100\n",
            "38/38 - 2s - loss: 0.0128 - 2s/epoch - 63ms/step\n",
            "Epoch 84/100\n",
            "38/38 - 2s - loss: 0.0129 - 2s/epoch - 63ms/step\n",
            "Epoch 85/100\n",
            "38/38 - 2s - loss: 0.0128 - 2s/epoch - 64ms/step\n",
            "Epoch 86/100\n",
            "38/38 - 2s - loss: 0.0127 - 2s/epoch - 63ms/step\n",
            "Epoch 87/100\n",
            "38/38 - 3s - loss: 0.0127 - 3s/epoch - 81ms/step\n",
            "Epoch 88/100\n",
            "38/38 - 2s - loss: 0.0128 - 2s/epoch - 62ms/step\n",
            "Epoch 89/100\n",
            "38/38 - 3s - loss: 0.0126 - 3s/epoch - 66ms/step\n",
            "Epoch 90/100\n",
            "38/38 - 2s - loss: 0.0127 - 2s/epoch - 61ms/step\n",
            "Epoch 91/100\n",
            "38/38 - 3s - loss: 0.0128 - 3s/epoch - 72ms/step\n",
            "Epoch 92/100\n",
            "38/38 - 3s - loss: 0.0127 - 3s/epoch - 72ms/step\n",
            "Epoch 93/100\n",
            "38/38 - 2s - loss: 0.0127 - 2s/epoch - 64ms/step\n",
            "Epoch 94/100\n",
            "38/38 - 2s - loss: 0.0127 - 2s/epoch - 64ms/step\n",
            "Epoch 95/100\n",
            "38/38 - 2s - loss: 0.0127 - 2s/epoch - 63ms/step\n",
            "Epoch 96/100\n",
            "38/38 - 3s - loss: 0.0127 - 3s/epoch - 79ms/step\n",
            "Epoch 97/100\n",
            "38/38 - 2s - loss: 0.0127 - 2s/epoch - 62ms/step\n",
            "Epoch 98/100\n",
            "38/38 - 2s - loss: 0.0127 - 2s/epoch - 62ms/step\n",
            "Epoch 99/100\n",
            "38/38 - 2s - loss: 0.0127 - 2s/epoch - 64ms/step\n",
            "Epoch 100/100\n",
            "38/38 - 2s - loss: 0.0127 - 2s/epoch - 61ms/step\n"
          ]
        },
        {
          "output_type": "execute_result",
          "data": {
            "text/plain": [
              "<keras.callbacks.History at 0x7f224c8c1f60>"
            ]
          },
          "metadata": {},
          "execution_count": 11
        }
      ],
      "source": [
        "#Latih model\n",
        "model.fit(X_train, y_train, epochs=100, batch_size=32, verbose=2)"
      ],
      "id": "e7a0d18a"
    },
    {
      "cell_type": "code",
      "execution_count": 12,
      "metadata": {
        "colab": {
          "base_uri": "https://localhost:8080/"
        },
        "id": "88527b62",
        "outputId": "a2a2ff89-884b-4df2-b758-acb8c16e0992"
      },
      "outputs": [
        {
          "output_type": "stream",
          "name": "stdout",
          "text": [
            "13/13 [==============================] - 1s 19ms/step\n"
          ]
        }
      ],
      "source": [
        "#ubah tipe data ke float32\n",
        "X_test = X_test.astype(np.float32)\n",
        "\n",
        "# Prediksi produksi padi pada data uji\n",
        "y_pred = model.predict(X_test)"
      ],
      "id": "88527b62"
    },
    {
      "cell_type": "code",
      "execution_count": 13,
      "metadata": {
        "id": "cddb1833"
      },
      "outputs": [],
      "source": [
        "#Inversi normalisasi data hasil prediksi dan data uji\n",
        "y_pred = (y_pred * (data['Produksi Padi (Ton-GKG)'].max() - data['Produksi Padi (Ton-GKG)'].min())) + data['Produksi Padi (Ton-GKG)'].min()\n",
        "y_test = (y_test * (data['Produksi Padi (Ton-GKG)'].max() - data['Produksi Padi (Ton-GKG)'].min())) + data['Produksi Padi (Ton-GKG)'].min()"
      ],
      "id": "cddb1833"
    },
    {
      "cell_type": "code",
      "execution_count": 14,
      "metadata": {
        "colab": {
          "base_uri": "https://localhost:8080/"
        },
        "id": "b69ef97e",
        "outputId": "70e89ca0-565e-4c25-f042-9c4383c1be46"
      },
      "outputs": [
        {
          "output_type": "stream",
          "name": "stdout",
          "text": [
            "MSE:  0.01319652124747549\n",
            "RMSE:  0.1148761126060396\n"
          ]
        }
      ],
      "source": [
        "from sklearn.metrics import mean_squared_error\n",
        "\n",
        "#Hitung metrik evaluasi\n",
        "mse = mean_squared_error(y_test, y_pred)\n",
        "rmse = np.sqrt(mse)\n",
        "\n",
        "print(\"MSE: \", mse)\n",
        "print(\"RMSE: \", rmse)"
      ],
      "id": "b69ef97e"
    },
    {
      "cell_type": "code",
      "execution_count": 15,
      "metadata": {
        "colab": {
          "base_uri": "https://localhost:8080/"
        },
        "id": "dgXtctwV0ayw",
        "outputId": "e3d64937-31ec-407d-cd5e-acc2ce74084e"
      },
      "outputs": [
        {
          "output_type": "execute_result",
          "data": {
            "text/plain": [
              "str"
            ]
          },
          "metadata": {},
          "execution_count": 15
        }
      ],
      "source": [
        "periode=('2022-04-03')\n",
        "type(periode)"
      ],
      "id": "dgXtctwV0ayw"
    },
    {
      "cell_type": "code",
      "execution_count": 18,
      "metadata": {
        "colab": {
          "base_uri": "https://localhost:8080/"
        },
        "id": "4ddd4e90",
        "outputId": "5e65328b-a363-4427-afaf-b7f60f509833"
      },
      "outputs": [
        {
          "output_type": "stream",
          "name": "stdout",
          "text": [
            "1/1 [==============================] - 0s 66ms/step\n",
            "Predicted Produksi Padi (Ton-GKG): 124766.38\n"
          ]
        }
      ],
      "source": [
        "# Fungsi menyiapkan input data\n",
        "def prepare_input_data(period, luas_panen):\n",
        "    scaled_period = (period - data['Periode'].min()) / (data['Periode'].max() - data['Periode'].min())\n",
        "    scaled_luas_panen = (luas_panen - data['Luas Panen (Ha)'].min()) / (data['Luas Panen (Ha)'].max() - data['Luas Panen (Ha)'].min())\n",
        "    input_data = np.array([[scaled_period, scaled_luas_panen]])\n",
        "    return input_data\n",
        "\n",
        "# Contoh input manual untuk periode dan luas panen\n",
        "\n",
        "input_period = '2022-04-03'\n",
        "input_period = pd.to_datetime(input_period, format='%Y-%m-%d')  # Konversi ke tipe data timestamp\n",
        "input_luas_panen = 40000.0\n",
        "\n",
        "# Persiapan input data\n",
        "input_data = prepare_input_data(input_period, input_luas_panen)\n",
        "\n",
        "# Melakukan prediksi menggunakan model\n",
        "y_pred = model.predict(input_data)\n",
        "\n",
        "# Inversi normalisasi data hasil prediksi\n",
        "predicted_output = (y_pred * (data['Produksi Padi (Ton-GKG)'].max() - data['Produksi Padi (Ton-GKG)'].min())) + data['Produksi Padi (Ton-GKG)'].min()\n",
        "\n",
        "predicted_output_float = float(predicted_output[0])\n",
        "predicted_output_round = round(predicted_output_float,2)\n",
        "\n",
        "print(\"Predicted Produksi Padi (Ton-GKG):\", predicted_output_round)\n"
      ],
      "id": "4ddd4e90"
    },
    {
      "cell_type": "code",
      "execution_count": 19,
      "metadata": {
        "colab": {
          "base_uri": "https://localhost:8080/"
        },
        "id": "q8omqrLqWNYi",
        "outputId": "8e2440df-fe9b-4d47-dd30-1bf7956d2361"
      },
      "outputs": [
        {
          "output_type": "execute_result",
          "data": {
            "text/plain": [
              "float"
            ]
          },
          "metadata": {},
          "execution_count": 19
        }
      ],
      "source": [
        "type(predicted_output_round)"
      ],
      "id": "q8omqrLqWNYi"
    },
    {
      "cell_type": "code",
      "execution_count": 20,
      "metadata": {
        "colab": {
          "base_uri": "https://localhost:8080/"
        },
        "id": "73Ommd7aWZJs",
        "outputId": "20d7c60b-c045-4fbc-f12a-3852f24ae81b"
      },
      "outputs": [
        {
          "output_type": "execute_result",
          "data": {
            "text/plain": [
              "float"
            ]
          },
          "metadata": {},
          "execution_count": 20
        }
      ],
      "source": [
        "type(input_luas_panen)"
      ],
      "id": "73Ommd7aWZJs"
    },
    {
      "cell_type": "code",
      "execution_count": 21,
      "metadata": {
        "colab": {
          "base_uri": "https://localhost:8080/"
        },
        "id": "PKyxr1j6WVhJ",
        "outputId": "cbee4fcc-8204-401b-eea7-56336bf43119"
      },
      "outputs": [
        {
          "output_type": "execute_result",
          "data": {
            "text/plain": [
              "pandas._libs.tslibs.timestamps.Timestamp"
            ]
          },
          "metadata": {},
          "execution_count": 21
        }
      ],
      "source": [
        "type(input_period)"
      ],
      "id": "PKyxr1j6WVhJ"
    },
    {
      "cell_type": "code",
      "execution_count": 22,
      "metadata": {
        "id": "8710cbe6"
      },
      "outputs": [],
      "source": [
        "from tensorflow.keras.models import save_model\n",
        "\n",
        "# Misalkan model Anda bernama \"model\"\n",
        "model.save('/content/model_produksipadi.h5')"
      ],
      "id": "8710cbe6"
    },
    {
      "cell_type": "code",
      "execution_count": 23,
      "metadata": {
        "colab": {
          "base_uri": "https://localhost:8080/",
          "height": 54
        },
        "id": "UQzIdmKWDZ5Z",
        "outputId": "2080d739-94fe-4336-f3ca-ed8180d7e611"
      },
      "outputs": [
        {
          "output_type": "stream",
          "name": "stderr",
          "text": [
            "WARNING:absl:Found untraced functions such as _update_step_xla while saving (showing 1 of 1). These functions will not be directly callable after loading.\n"
          ]
        },
        {
          "output_type": "display_data",
          "data": {
            "text/plain": [
              "<IPython.core.display.Javascript object>"
            ],
            "application/javascript": [
              "\n",
              "    async function download(id, filename, size) {\n",
              "      if (!google.colab.kernel.accessAllowed) {\n",
              "        return;\n",
              "      }\n",
              "      const div = document.createElement('div');\n",
              "      const label = document.createElement('label');\n",
              "      label.textContent = `Downloading \"${filename}\": `;\n",
              "      div.appendChild(label);\n",
              "      const progress = document.createElement('progress');\n",
              "      progress.max = size;\n",
              "      div.appendChild(progress);\n",
              "      document.body.appendChild(div);\n",
              "\n",
              "      const buffers = [];\n",
              "      let downloaded = 0;\n",
              "\n",
              "      const channel = await google.colab.kernel.comms.open(id);\n",
              "      // Send a message to notify the kernel that we're ready.\n",
              "      channel.send({})\n",
              "\n",
              "      for await (const message of channel.messages) {\n",
              "        // Send a message to notify the kernel that we're ready.\n",
              "        channel.send({})\n",
              "        if (message.buffers) {\n",
              "          for (const buffer of message.buffers) {\n",
              "            buffers.push(buffer);\n",
              "            downloaded += buffer.byteLength;\n",
              "            progress.value = downloaded;\n",
              "          }\n",
              "        }\n",
              "      }\n",
              "      const blob = new Blob(buffers, {type: 'application/binary'});\n",
              "      const a = document.createElement('a');\n",
              "      a.href = window.URL.createObjectURL(blob);\n",
              "      a.download = filename;\n",
              "      div.appendChild(a);\n",
              "      a.click();\n",
              "      div.remove();\n",
              "    }\n",
              "  "
            ]
          },
          "metadata": {}
        },
        {
          "output_type": "display_data",
          "data": {
            "text/plain": [
              "<IPython.core.display.Javascript object>"
            ],
            "application/javascript": [
              "download(\"download_8df94a84-5550-4874-82c1-086cdf958f7f\", \"model_produksipadi.tflite\", 3015080)"
            ]
          },
          "metadata": {}
        }
      ],
      "source": [
        "import tensorflow as tf\n",
        "# Load the Keras model\n",
        "model = tf.keras.models.load_model('/content/model_produksipadi.h5')\n",
        "\n",
        "# Convert the model to TFLite format\n",
        "converter = tf.lite.TFLiteConverter.from_keras_model(model)\n",
        "converter.target_spec.supported_ops = [\n",
        "    tf.lite.OpsSet.TFLITE_BUILTINS,\n",
        "    tf.lite.OpsSet.SELECT_TF_OPS\n",
        "]\n",
        "tflite_model = converter.convert()\n",
        "\n",
        "# Save the TFLite model to a file\n",
        "with open('/content/model_produksipadi.tflite', 'wb') as f:\n",
        "    f.write(tflite_model)\n",
        "\n",
        "from google.colab import files\n",
        "files.download('model_produksipadi.tflite')"
      ],
      "id": "UQzIdmKWDZ5Z"
    }
  ],
  "metadata": {
    "colab": {
      "provenance": []
    },
    "kernelspec": {
      "display_name": "Python 3 (ipykernel)",
      "language": "python",
      "name": "python3"
    },
    "language_info": {
      "codemirror_mode": {
        "name": "ipython",
        "version": 3
      },
      "file_extension": ".py",
      "mimetype": "text/x-python",
      "name": "python",
      "nbconvert_exporter": "python",
      "pygments_lexer": "ipython3",
      "version": "3.9.15"
    }
  },
  "nbformat": 4,
  "nbformat_minor": 5
}